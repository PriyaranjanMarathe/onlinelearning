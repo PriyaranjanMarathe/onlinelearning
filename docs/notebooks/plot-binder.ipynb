{
  "cells": [
    {
      "cell_type": "markdown",
      "metadata": {},
      "source": [
        "# Quarto Notebook on Binder\n",
        "\n",
        "## **Generating a Plot in Quarto Notebook**\n",
        "\n",
        "This notebook demonstrates how to generate and visualize a sine wave\n",
        "using Python.\n",
        "\n",
        "import numpy as np import matplotlib.pyplot as plt\n",
        "\n",
        "# Generate X values from 0 to 10\n",
        "\n",
        "x = np.linspace(0, 10, 100) y = np.sin(x) \\# Sine function\n",
        "\n",
        "# Plot the sine wave\n",
        "\n",
        "plt.figure(figsize=(8, 5)) plt.plot(x, y, label=“Sine Wave”,\n",
        "color=“blue”) plt.xlabel(“X-axis”) plt.ylabel(“Y-axis”)\n",
        "plt.title(“SineWave Plot”) plt.legend() plt.grid(True) plt.show()"
      ],
      "id": "1025be74-d164-4b2a-9705-cc316a340341"
    }
  ],
  "nbformat": 4,
  "nbformat_minor": 5,
  "metadata": {
    "kernelspec": {
      "name": "python3",
      "display_name": "Python 3 (ipykernel)",
      "language": "python",
      "path": "C:"
    }
  }
}