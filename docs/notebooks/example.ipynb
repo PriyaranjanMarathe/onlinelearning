{
  "cells": [
    {
      "cell_type": "markdown",
      "metadata": {},
      "source": [
        "# Quarto Notebook on Binder\n",
        "\n",
        "## Generating a Plot in Quarto Notebook\n",
        "\n",
        "import numpy as np import matplotlib.pyplot as plt\n",
        "\n",
        "x = np.linspace(0, 10, 100) y = np.sin(x)\n",
        "\n",
        "plt.figure(figsize=(8, 5)) plt.plot(x, y, label=“Sine Wave”,\n",
        "color=“blue”) plt.xlabel(“X-axis”) plt.ylabel(“Y-axis”) plt.title(“Sine\n",
        "Wave Plot”) plt.legend() plt.grid(True) plt.show()"
      ],
      "id": "c67c88e9-0850-4d7c-bfcf-209f3cd9e8a3"
    }
  ],
  "nbformat": 4,
  "nbformat_minor": 5,
  "metadata": {
    "kernelspec": {
      "name": "python3",
      "display_name": "Python 3 (ipykernel)",
      "language": "python",
      "path": "C:"
    }
  }
}