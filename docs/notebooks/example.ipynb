{
  "cells": [
    {
      "cell_type": "markdown",
      "metadata": {},
      "source": [
        "# Quarto Notebook on Binder\n",
        "\n",
        "## Generating a Plot in Quarto Notebook\n",
        "\n",
        "import numpy as np import matplotlib.pyplot as plt\n",
        "\n",
        "x = np.linspace(0, 10, 100) y = np.sin(x)\n",
        "\n",
        "plt.figure(figsize=(8, 5)) plt.plot(x, y, label=“Sine Wave”,\n",
        "color=“blue”) plt.xlabel(“X-axis”) plt.ylabel(“Y-axis”) plt.title(“Sine\n",
        "Wave Plot”) plt.legend() plt.grid(True) plt.show()"
      ],
      "id": "cc6815c8-b5c8-44e7-a15e-be807850a559"
    }
  ],
  "nbformat": 4,
  "nbformat_minor": 5,
  "metadata": {
    "kernelspec": {
      "name": "python3",
      "display_name": "Python 3 (ipykernel)",
      "language": "python",
      "path": "C:"
    },
    "language_info": {
      "name": "python",
      "codemirror_mode": {
        "name": "ipython",
        "version": "3"
      },
      "file_extension": ".py",
      "mimetype": "text/x-python",
      "nbconvert_exporter": "python",
      "pygments_lexer": "ipython3",
      "version": "3.12.6"
    }
  }
}